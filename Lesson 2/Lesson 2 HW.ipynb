{
 "cells": [
  {
   "cell_type": "markdown",
   "metadata": {},
   "source": [
    "## CSV"
   ]
  },
  {
   "cell_type": "code",
   "execution_count": 23,
   "metadata": {},
   "outputs": [],
   "source": [
    "import csv\n",
    "import re\n",
    "\n",
    "def get_data(files):\n",
    "    os_prod_list = []\n",
    "    os_name_list = []\n",
    "    os_code_list = []\n",
    "    os_type_list = []\n",
    "    main_data = [[\"Изготовитель системы\", \"Название ОС\", \"Код продукта\", \"Тип системы\"]]\n",
    "    for file in files:\n",
    "        with open(file, 'r', encoding='windows-1251') as f:\n",
    "            f_content = f.read()\n",
    "            os_prod_list.append(re.findall(f'{main_data[0][0]}:\\s*(.+)', f_content)[0].strip())\n",
    "            os_name_list.append(re.findall(f'{main_data[0][1]}:\\s*(.+)', f_content)[0].strip())\n",
    "            os_code_list.append(re.findall(f'{main_data[0][2]}:\\s*(.+)', f_content)[0].strip())\n",
    "            os_type_list.append(re.findall(f'{main_data[0][3]}:\\s*(.+)', f_content)[0].strip())\n",
    "    main_data.append(os_prod_list)\n",
    "    main_data.append(os_name_list)\n",
    "    main_data.append(os_code_list)\n",
    "    main_data.append(os_type_list)\n",
    "    return main_data"
   ]
  },
  {
   "cell_type": "code",
   "execution_count": 25,
   "metadata": {},
   "outputs": [],
   "source": [
    "def write_to_csv(file):\n",
    "    data = get_data(['info_1.txt', 'info_2.txt', 'info_3.txt'])\n",
    "    with open(file, 'w') as f:\n",
    "        writer = csv.writer(f)\n",
    "        for row in data:\n",
    "            writer.writerow(row)            "
   ]
  },
  {
   "cell_type": "code",
   "execution_count": 26,
   "metadata": {},
   "outputs": [],
   "source": [
    "write_to_csv('asdf')"
   ]
  },
  {
   "cell_type": "markdown",
   "metadata": {},
   "source": [
    "## JSON"
   ]
  },
  {
   "cell_type": "code",
   "execution_count": 59,
   "metadata": {},
   "outputs": [],
   "source": [
    "import json\n",
    "\n",
    "def write_order_to_json(item, quantity, price, buyer, date):\n",
    "    with open('orders.json', 'r') as f:\n",
    "        data = json.load(f)\n",
    "    data.append({'item': item, 'quantity': quantity, 'price': price, 'buyer': buyer, 'date': date})\n",
    "    with open('orders.json', 'w') as f:        \n",
    "        json.dump(data, f, indent=4)"
   ]
  },
  {
   "cell_type": "code",
   "execution_count": 60,
   "metadata": {},
   "outputs": [],
   "source": [
    "write_order_to_json('qwer', 4, 12.3, 'a', '12-05-2019')"
   ]
  },
  {
   "cell_type": "markdown",
   "metadata": {},
   "source": [
    "## YAML"
   ]
  },
  {
   "cell_type": "code",
   "execution_count": 6,
   "metadata": {},
   "outputs": [],
   "source": [
    "import yaml\n",
    "\n",
    "data = {\n",
    "    'list': ['1', '2', 3],\n",
    "    'num': 5,\n",
    "    'dict': {'ʥ': 'ʥ', 'Ɋ': 'Ƞ'}\n",
    "}\n",
    "\n",
    "with open('file.yaml', 'w') as f:\n",
    "    yaml.safe_dump(data, f, allow_unicode=True, default_flow_style=False)"
   ]
  }
 ],
 "metadata": {
  "kernelspec": {
   "display_name": "Python 3",
   "language": "python",
   "name": "python3"
  },
  "language_info": {
   "codemirror_mode": {
    "name": "ipython",
    "version": 3
   },
   "file_extension": ".py",
   "mimetype": "text/x-python",
   "name": "python",
   "nbconvert_exporter": "python",
   "pygments_lexer": "ipython3",
   "version": "3.6.8"
  }
 },
 "nbformat": 4,
 "nbformat_minor": 2
}
